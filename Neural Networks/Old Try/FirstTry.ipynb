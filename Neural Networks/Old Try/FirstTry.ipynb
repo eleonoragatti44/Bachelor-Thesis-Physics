{
 "cells": [
  {
   "cell_type": "code",
   "execution_count": 1,
   "metadata": {},
   "outputs": [],
   "source": [
    "import numpy as np\n",
    "import pandas as pd\n",
    "import matplotlib.pylab as plt\n",
    "import torch\n",
    "from torch import autograd, nn\n",
    "import torch.nn.functional as F\n",
    "import torch.optim as optim\n",
    "import functions as f"
   ]
  },
  {
   "cell_type": "code",
   "execution_count": 2,
   "metadata": {},
   "outputs": [],
   "source": [
    "data = pd.read_csv('data_fs.dat', delim_whitespace=True, decimal=\",\")\n",
    "f.add_bool(data)"
   ]
  },
  {
   "cell_type": "markdown",
   "metadata": {},
   "source": [
    "### Data_train"
   ]
  },
  {
   "cell_type": "code",
   "execution_count": 3,
   "metadata": {},
   "outputs": [],
   "source": [
    "x = data[\"x\"][data['check'] == True]\n",
    "y = data[\"y\"][data['check'] == True]\n",
    "\n",
    "X_train = np.stack((x.values, y.values), axis=1)\n",
    "X_train = torch.from_numpy(X_train).float()\n",
    "\n",
    "y_train = data[\"e\"][data['check'] == True]\n",
    "y_train = torch.squeeze(torch.from_numpy(y_train.to_numpy()).float())\n",
    "\n",
    "#X_train, y_train"
   ]
  },
  {
   "cell_type": "markdown",
   "metadata": {},
   "source": [
    "### Data_test"
   ]
  },
  {
   "cell_type": "code",
   "execution_count": 4,
   "metadata": {},
   "outputs": [
    {
     "name": "stdout",
     "output_type": "stream",
     "text": [
      "torch.Size([85, 2]) torch.Size([85])\n",
      "torch.Size([84, 2]) torch.Size([84])\n"
     ]
    }
   ],
   "source": [
    "x = data[\"x\"][data['check'] == False]\n",
    "y = data[\"y\"][data['check'] == False]\n",
    "\n",
    "X_test = np.stack((x.values, y.values), axis=1)\n",
    "X_test = torch.from_numpy(X_test).float()\n",
    "\n",
    "y_test = data[\"e\"][data['check'] == False]\n",
    "y_test = torch.squeeze(torch.from_numpy(y_test.to_numpy()).float())\n",
    "\n",
    "print(X_train.shape, y_train.shape)\n",
    "print(X_test.shape, y_test.shape)"
   ]
  },
  {
   "cell_type": "markdown",
   "metadata": {},
   "source": [
    "### Set Parameters"
   ]
  },
  {
   "cell_type": "code",
   "execution_count": 5,
   "metadata": {},
   "outputs": [],
   "source": [
    "input_size = 2\n",
    "hidden_size = 7\n",
    "activation_fun = nn.Tanh()\n",
    "learning_rate = 0.001\n",
    "epochs = 1000\n",
    "loss_fun = nn.MSELoss()"
   ]
  },
  {
   "cell_type": "code",
   "execution_count": 6,
   "metadata": {},
   "outputs": [],
   "source": [
    "class Net(nn.Module):\n",
    "    def __init__(self):\n",
    "        super(Net, self).__init__()\n",
    "        \n",
    "        self.hidden = nn.Linear(input_size, hidden_size)\n",
    "        self.activation = activation_fun\n",
    "        self.output = nn.Linear(hidden_size, 1)\n",
    "        \n",
    "    def forward(self, input):\n",
    "        hidden = self.hidden(input)\n",
    "        activated = self.activation(hidden)\n",
    "        output = self.output(activated)\n",
    "        \n",
    "        return output"
   ]
  },
  {
   "cell_type": "code",
   "execution_count": 7,
   "metadata": {},
   "outputs": [],
   "source": [
    "net = Net()\n",
    "opt = optim.SGD(net.parameters(), lr=learning_rate) #che valore di lr usare??"
   ]
  },
  {
   "cell_type": "code",
   "execution_count": 8,
   "metadata": {},
   "outputs": [
    {
     "name": "stdout",
     "output_type": "stream",
     "text": [
      "Test loss before Training 1.0114374160766602\n"
     ]
    }
   ],
   "source": [
    "net.eval()\n",
    "\n",
    "y_pred = net(X_test)\n",
    "y_pred = torch.squeeze(y_pred)\n",
    "before_train = loss_fun(y_pred, y_test)\n",
    "print('Test loss before Training' , before_train.item())"
   ]
  },
  {
   "cell_type": "code",
   "execution_count": 9,
   "metadata": {},
   "outputs": [
    {
     "name": "stdout",
     "output_type": "stream",
     "text": [
      "Epoch 0: train loss: 1.0135986804962158\n",
      "Epoch 20: train loss: 0.8843684196472168\n",
      "Epoch 40: train loss: 0.7722435593605042\n",
      "Epoch 60: train loss: 0.6747815012931824\n",
      "Epoch 80: train loss: 0.5899386405944824\n",
      "Epoch 100: train loss: 0.5159938335418701\n",
      "Epoch 120: train loss: 0.45148688554763794\n",
      "Epoch 140: train loss: 0.39517343044281006\n",
      "Epoch 160: train loss: 0.3459867835044861\n",
      "Epoch 180: train loss: 0.30300891399383545\n",
      "Epoch 200: train loss: 0.2654469311237335\n",
      "Epoch 220: train loss: 0.23261390626430511\n",
      "Epoch 240: train loss: 0.20391300320625305\n",
      "Epoch 260: train loss: 0.17882488667964935\n",
      "Epoch 280: train loss: 0.15689623355865479\n",
      "Epoch 300: train loss: 0.13773158192634583\n",
      "Epoch 320: train loss: 0.12098513543605804\n",
      "Epoch 340: train loss: 0.10635442286729813\n",
      "Epoch 360: train loss: 0.09357478469610214\n",
      "Epoch 380: train loss: 0.08241445571184158\n",
      "Epoch 400: train loss: 0.07267015427350998\n",
      "Epoch 420: train loss: 0.06416428834199905\n",
      "Epoch 440: train loss: 0.05674093961715698\n",
      "Epoch 460: train loss: 0.05026384815573692\n",
      "Epoch 480: train loss: 0.04461340233683586\n",
      "Epoch 500: train loss: 0.03968517482280731\n",
      "Epoch 520: train loss: 0.03538748621940613\n",
      "Epoch 540: train loss: 0.03164040669798851\n",
      "Epoch 560: train loss: 0.028373807668685913\n",
      "Epoch 580: train loss: 0.02552645094692707\n",
      "Epoch 600: train loss: 0.02304474264383316\n",
      "Epoch 620: train loss: 0.020881934091448784\n",
      "Epoch 640: train loss: 0.018997155129909515\n",
      "Epoch 660: train loss: 0.017354711890220642\n",
      "Epoch 680: train loss: 0.015923481434583664\n",
      "Epoch 700: train loss: 0.014676197431981564\n",
      "Epoch 720: train loss: 0.013589179143309593\n",
      "Epoch 740: train loss: 0.012641709297895432\n",
      "Epoch 760: train loss: 0.011815731413662434\n",
      "Epoch 780: train loss: 0.011095534078776836\n",
      "Epoch 800: train loss: 0.01046737190335989\n",
      "Epoch 820: train loss: 0.009919357486069202\n",
      "Epoch 840: train loss: 0.009441041387617588\n",
      "Epoch 860: train loss: 0.009023377671837807\n",
      "Epoch 880: train loss: 0.008658487349748611\n",
      "Epoch 900: train loss: 0.008339480496942997\n",
      "Epoch 920: train loss: 0.008060368709266186\n",
      "Epoch 940: train loss: 0.007815975695848465\n",
      "Epoch 960: train loss: 0.0076017724350094795\n",
      "Epoch 980: train loss: 0.00741381011903286\n"
     ]
    }
   ],
   "source": [
    "net.train()\n",
    "\n",
    "for epoch in range(epochs):\n",
    "    opt.zero_grad()\n",
    "    y_pred = net(X_train)\n",
    "    y_pred = torch.squeeze(y_pred)\n",
    "    train_loss = loss_fun(y_train, y_pred)\n",
    "    \n",
    "    if epoch % 20 == 0:\n",
    "        print('Epoch {}: train loss: {}'.format(epoch, train_loss.item()))\n",
    "    \n",
    "    train_loss.backward()\n",
    "    opt.step()"
   ]
  },
  {
   "cell_type": "code",
   "execution_count": 10,
   "metadata": {},
   "outputs": [
    {
     "name": "stdout",
     "output_type": "stream",
     "text": [
      "Test loss after Training 0.006835895590484142\n"
     ]
    }
   ],
   "source": [
    "net.eval()\n",
    "\n",
    "y_pred = net(X_test)\n",
    "y_pred = torch.squeeze(y_pred)\n",
    "after_train = loss_fun(y_pred, y_test)\n",
    "print('Test loss after Training' , after_train.item())"
   ]
  },
  {
   "cell_type": "code",
   "execution_count": 11,
   "metadata": {},
   "outputs": [
    {
     "data": {
      "text/plain": [
       "Text(0.5, 1.0, 'Error')"
      ]
     },
     "execution_count": 11,
     "metadata": {},
     "output_type": "execute_result"
    },
    {
     "data": {
      "image/png": "[encoded data removed]",
      "text/plain": [
       "<Figure size 432x288 with 1 Axes>"
      ]
     },
     "metadata": {
      "needs_background": "light"
     },
     "output_type": "display_data"
    }
   ],
   "source": [
    "plt.plot(abs(net(X_test).view(-1) - y_test).detach().numpy())\n",
    "plt.title('Error')"
   ]
  },
  {
   "cell_type": "code",
   "execution_count": null,
   "metadata": {},
   "outputs": [],
   "source": []
  }
 ],
 "metadata": {
  "kernelspec": {
   "display_name": "Python 3",
   "language": "python",
   "name": "python3"
  },
  "language_info": {
   "codemirror_mode": {
    "name": "ipython",
    "version": 3
   },
   "file_extension": ".py",
   "mimetype": "text/x-python",
   "name": "python",
   "nbconvert_exporter": "python",
   "pygments_lexer": "ipython3",
   "version": "3.7.4"
  }
 },
 "nbformat": 4,
 "nbformat_minor": 4
}
