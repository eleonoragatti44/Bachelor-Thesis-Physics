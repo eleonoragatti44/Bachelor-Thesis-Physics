{
 "cells": [
  {
   "cell_type": "markdown",
   "metadata": {},
   "source": [
    "**Osservazioni/Dubbi:**  \n",
    "- Ad ogni riavvio del kernel i risultati della loss prima e dopo il training variano (spesso anche di un'unità). Credo che questo sia dovuto al fatto che inizialmente i weights e biases siano impostati casualmente -> c'è un modo per ovviare questo \"problema\"\n",
    "- I dati che ho per il training (85) sono \"tanti o pochi\" relativamente al mio task?\n",
    "- Non capisco se la rete sta imparando e/o se va in overfitting\n",
    "- Cosa fa esattamente il comando .view(-1)?\n",
    "- Fatto interessante: se aumento il numero di elementi nel train_set non è affatto detto che le cose migliorino. Esempio:\n",
    "    * add_bool vs add_bool2 con:\n",
    "        * input_size = 2\n",
    "        * hidden_size = 5\n",
    "        * activation_fun = nn.Tanh()\n",
    "        * learning_rate = 0.001\n",
    "        * epochs = 50\n",
    "        * loss_fun = nn.MSELoss()"
   ]
  },
  {
   "cell_type": "markdown",
   "metadata": {},
   "source": [
    "Buoni parametri:  \n",
    "- input_size = 2  \n",
    "- hidden_size = 5  \n",
    "- activation_fun = nn.Tanh()  \n",
    "- learning_rate = 0.001  \n",
    "- epochs = 1000  \n",
    "- loss_fun = nn.MSELoss()  "
   ]
  },
  {
   "cell_type": "code",
   "execution_count": 1,
   "metadata": {},
   "outputs": [],
   "source": [
    "import numpy as np\n",
    "import pandas as pd\n",
    "import matplotlib.pylab as plt\n",
    "import torch\n",
    "from torch import autograd, nn\n",
    "import torch.nn.functional as F\n",
    "import torch.optim as optim\n",
    "import functions as f\n",
    "from tqdm import tqdm"
   ]
  },
  {
   "cell_type": "code",
   "execution_count": 9,
   "metadata": {},
   "outputs": [],
   "source": [
    "data = pd.read_csv('data_fs.dat', delim_whitespace=True, decimal=\",\")\n",
    "\n",
    "# ATTENZIONE!!! USANDO ADD_BOOL2 SI HA UN TRAIN_SET 113 ELEMENTI E UN TEST_SET DI 56\n",
    "f.add_bool(data)"
   ]
  },
  {
   "cell_type": "markdown",
   "metadata": {},
   "source": [
    "### Data_train"
   ]
  },
  {
   "cell_type": "code",
   "execution_count": 3,
   "metadata": {},
   "outputs": [],
   "source": [
    "x = data[\"x\"][data['check'] == True]\n",
    "y = data[\"y\"][data['check'] == True]\n",
    "\n",
    "X_train = np.stack((x.values, y.values), axis=1)\n",
    "X_train = torch.from_numpy(X_train).float()"
   ]
  },
  {
   "cell_type": "markdown",
   "metadata": {},
   "source": [
    "Normalizzo i dati dell'ellitticità in modo da ottenere un risultato che sia sempre compreso tra -1 e 1.   \n",
    "Il fatto di scegliere come range -1 e 1 è dettato dalla scelta della Tanh come funzione di attivazione, il cui codominio è proprio (-1,1).  \n",
    "`normalization1` normalizza i dati tra 0 e 1  \n",
    "`normalization2` normalizza i dati tra -1 e 1"
   ]
  },
  {
   "cell_type": "code",
   "execution_count": 8,
   "metadata": {},
   "outputs": [],
   "source": [
    "y_train = data[\"e\"][data['check'] == True]\n",
    "y_train = f.normalization1(y_train)\n",
    "y_train = torch.squeeze(torch.from_numpy(y_train.to_numpy()).float())"
   ]
  },
  {
   "cell_type": "markdown",
   "metadata": {},
   "source": [
    "### Data_test"
   ]
  },
  {
   "cell_type": "code",
   "execution_count": 5,
   "metadata": {},
   "outputs": [
    {
     "name": "stdout",
     "output_type": "stream",
     "text": [
      "torch.Size([113, 2]) torch.Size([113])\n",
      "torch.Size([56, 2]) torch.Size([56])\n"
     ]
    }
   ],
   "source": [
    "x = data[\"x\"][data['check'] == False]\n",
    "y = data[\"y\"][data['check'] == False]\n",
    "\n",
    "X_test = np.stack((x.values, y.values), axis=1)\n",
    "X_test = torch.from_numpy(X_test).float()\n",
    "\n",
    "y_test = data[\"e\"][data['check'] == False]\n",
    "\n",
    "m_test = 2/(y_test.max() - y_test.min())\n",
    "q_test = (y_test.min() + y_test.max()) / (y_test.min() - y_test.max())\n",
    "\n",
    "y_test = y_test * m_test + q_test\n",
    "y_test = torch.squeeze(torch.from_numpy(y_test.to_numpy()).float())\n",
    "\n",
    "print(X_train.shape, y_train.shape)\n",
    "print(X_test.shape, y_test.shape)"
   ]
  },
  {
   "cell_type": "markdown",
   "metadata": {},
   "source": [
    "### Set Parameters"
   ]
  },
  {
   "cell_type": "code",
   "execution_count": 6,
   "metadata": {},
   "outputs": [],
   "source": [
    "input_size = 2\n",
    "hidden_size = 5\n",
    "activation_fun = nn.Tanh()\n",
    "learning_rate = 0.001\n",
    "epochs = 500\n",
    "loss_fun = nn.MSELoss()"
   ]
  },
  {
   "cell_type": "code",
   "execution_count": 7,
   "metadata": {},
   "outputs": [],
   "source": [
    "class Net(nn.Module):\n",
    "    def __init__(self):\n",
    "        super(Net, self).__init__()\n",
    "        \n",
    "        self.hidden = nn.Linear(input_size, hidden_size)\n",
    "        self.activation = activation_fun\n",
    "        self.output = nn.Linear(hidden_size, 1)\n",
    "        \n",
    "    def forward(self, input):\n",
    "        hidden = self.hidden(input)\n",
    "        activated = self.activation(hidden)\n",
    "        output = self.output(activated)\n",
    "        \n",
    "        return output"
   ]
  },
  {
   "cell_type": "code",
   "execution_count": 8,
   "metadata": {},
   "outputs": [],
   "source": [
    "net = Net()\n",
    "opt = optim.Adam(net.parameters(), lr=learning_rate) #che valore di lr usare??"
   ]
  },
  {
   "cell_type": "code",
   "execution_count": 9,
   "metadata": {},
   "outputs": [
    {
     "name": "stdout",
     "output_type": "stream",
     "text": [
      "Test loss before Training 0.3988516628742218\n"
     ]
    }
   ],
   "source": [
    "net.eval()\n",
    "\n",
    "y_pred = net(X_test)\n",
    "y_pred = torch.squeeze(y_pred)\n",
    "before_train = loss_fun(y_pred, y_test)\n",
    "print('Test loss before Training' , before_train.item())"
   ]
  },
  {
   "cell_type": "code",
   "execution_count": 10,
   "metadata": {},
   "outputs": [
    {
     "name": "stderr",
     "output_type": "stream",
     "text": [
      "100%|██████████| 500/500 [00:00<00:00, 818.85it/s]\n"
     ]
    }
   ],
   "source": [
    "net.train()\n",
    "\n",
    "training = []\n",
    "validation = []\n",
    "\n",
    "for epoch in tqdm(range(epochs)):\n",
    "    opt.zero_grad()\n",
    "    y_pred = net(X_train)\n",
    "    y_pred = torch.squeeze(y_pred)\n",
    "    train_loss = loss_fun(y_train, y_pred)\n",
    "    training.append(train_loss)\n",
    "    \n",
    "    \n",
    "    with torch.no_grad():\n",
    "        y_val = net(X_test)\n",
    "        y_val = torch.squeeze(y_val)\n",
    "        val_loss = loss_fun(y_val, y_test)\n",
    "        assert val_loss.requires_grad == False\n",
    "        validation.append(val_loss)\n",
    "    \n",
    "    \n",
    "    #print('Epoch {}: train loss: {}'.format(epoch, train_loss.item()))\n",
    "    train_loss.backward()\n",
    "    opt.step()"
   ]
  },
  {
   "cell_type": "code",
   "execution_count": 11,
   "metadata": {},
   "outputs": [
    {
     "name": "stdout",
     "output_type": "stream",
     "text": [
      "Test loss after Training 0.2625252306461334\n"
     ]
    }
   ],
   "source": [
    "net.eval()\n",
    "\n",
    "y_pred = net(X_test)\n",
    "y_pred = torch.squeeze(y_pred)\n",
    "after_train = loss_fun(y_pred, y_test)\n",
    "print('Test loss after Training' , after_train.item())"
   ]
  },
  {
   "cell_type": "code",
   "execution_count": 12,
   "metadata": {},
   "outputs": [
    {
     "data": {
      "text/plain": [
       "<matplotlib.legend.Legend at 0x13206c6090>"
      ]
     },
     "execution_count": 12,
     "metadata": {},
     "output_type": "execute_result"
    },
    {
     "data": {
      "image/png": "[encoded data removed]",
      "text/plain": [
       "<Figure size 432x288 with 1 Axes>"
      ]
     },
     "metadata": {
      "needs_background": "light"
     },
     "output_type": "display_data"
    }
   ],
   "source": [
    "plt.plot(validation, linestyle='-', color='green', label='validation loss')\n",
    "plt.plot(training, linestyle='-', color='blue', label='training loss')\n",
    "plt.title('Validation and training loss')\n",
    "plt.xlabel('Epochs')\n",
    "plt.ylabel('Loss')\n",
    "plt.legend()"
   ]
  },
  {
   "cell_type": "markdown",
   "metadata": {},
   "source": [
    "Converto la normalizzazione iniziale"
   ]
  },
  {
   "cell_type": "code",
   "execution_count": 14,
   "metadata": {},
   "outputs": [
    {
     "data": {
      "text/plain": [
       "Text(0, 0.5, 'Loss')"
      ]
     },
     "execution_count": 14,
     "metadata": {},
     "output_type": "execute_result"
    },
    {
     "data": {
      "image/png": "[encoded data removed]",
      "text/plain": [
       "<Figure size 432x288 with 1 Axes>"
      ]
     },
     "metadata": {
      "needs_background": "light"
     },
     "output_type": "display_data"
    }
   ],
   "source": [
    "predicted = torch.squeeze( (net(X_test) - q_test) / m_test )\n",
    "true = torch.squeeze( ((y_test - q_test) / m_test ).float())\n",
    "\n",
    "plt.plot(abs(predicted - true).detach().numpy(), marker='.', ls='-')\n",
    "plt.title('Error between true and predicted data')\n",
    "plt.xlabel('Horn Index')\n",
    "plt.ylabel('Loss')"
   ]
  },
  {
   "cell_type": "code",
   "execution_count": null,
   "metadata": {},
   "outputs": [],
   "source": []
  },
  {
   "cell_type": "code",
   "execution_count": null,
   "metadata": {},
   "outputs": [],
   "source": []
  }
 ],
 "metadata": {
  "kernelspec": {
   "display_name": "Python 3",
   "language": "python",
   "name": "python3"
  },
  "language_info": {
   "codemirror_mode": {
    "name": "ipython",
    "version": 3
   },
   "file_extension": ".py",
   "mimetype": "text/x-python",
   "name": "python",
   "nbconvert_exporter": "python",
   "pygments_lexer": "ipython3",
   "version": "3.7.4"
  }
 },
 "nbformat": 4,
 "nbformat_minor": 4
}
