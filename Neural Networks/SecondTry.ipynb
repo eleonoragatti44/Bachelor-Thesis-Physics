{
 "cells": [
  {
   "cell_type": "markdown",
   "metadata": {},
   "source": [
    "**Osservazioni/Dubbi:**  \n",
    "- Ad ogni riavvio del kernel i risultati della loss prima e dopo il training variano (spesso anche di un'unità). Credo che questo sia dovuto al fatto che inizialmente i weights e biases siano impostati casualmente -> c'è un modo per ovviare questo \"problema\"\n",
    "- I dati che ho per il training (85) sono \"tanti o pochi\" relativamente al mio task?\n",
    "- Non capisco se la rete sta imparando e/o se va in overfitting\n",
    "- Cosa fa esattamente il comando .view(-1)?"
   ]
  },
  {
   "cell_type": "markdown",
   "metadata": {},
   "source": [
    "Ho trovato dei buoni parametri:  \n",
    "- input_size = 2  \n",
    "- hidden_size = 5  \n",
    "- activation_fun = nn.Tanh()  \n",
    "- learning_rate = 0.001  \n",
    "- epochs = 1000  \n",
    "- loss_fun = nn.MSELoss()  "
   ]
  },
  {
   "cell_type": "code",
   "execution_count": 1,
   "metadata": {},
   "outputs": [],
   "source": [
    "import numpy as np\n",
    "import pandas as pd\n",
    "import matplotlib.pylab as plt\n",
    "import torch\n",
    "from torch import autograd, nn\n",
    "import torch.nn.functional as F\n",
    "import torch.optim as optim\n",
    "import functions as f\n",
    "from tqdm import tqdm"
   ]
  },
  {
   "cell_type": "code",
   "execution_count": 2,
   "metadata": {},
   "outputs": [],
   "source": [
    "data = pd.read_csv('data_fs.dat', delim_whitespace=True, decimal=\",\")\n",
    "\n",
    "# ATTENZIONE!!! IN QUESTO CASO HO UN TRAIN_SET DI 113 ELEMENTI E UN TEST_SET DI 56\n",
    "f.add_bool(data)"
   ]
  },
  {
   "cell_type": "markdown",
   "metadata": {},
   "source": [
    "### Data_train"
   ]
  },
  {
   "cell_type": "code",
   "execution_count": 3,
   "metadata": {},
   "outputs": [],
   "source": [
    "x = data[\"x\"][data['check'] == True]\n",
    "y = data[\"y\"][data['check'] == True]\n",
    "\n",
    "X_train = np.stack((x.values, y.values), axis=1)\n",
    "X_train = torch.from_numpy(X_train).float()\n",
    "\n",
    "y_train = data[\"e\"][data['check'] == True]\n",
    "y_train = torch.squeeze(torch.from_numpy(y_train.to_numpy()).float())\n",
    "\n",
    "#X_train, y_train"
   ]
  },
  {
   "cell_type": "markdown",
   "metadata": {},
   "source": [
    "### Data_test"
   ]
  },
  {
   "cell_type": "code",
   "execution_count": 4,
   "metadata": {},
   "outputs": [
    {
     "name": "stdout",
     "output_type": "stream",
     "text": [
      "torch.Size([85, 2]) torch.Size([85])\n",
      "torch.Size([84, 2]) torch.Size([84])\n"
     ]
    }
   ],
   "source": [
    "x = data[\"x\"][data['check'] == False]\n",
    "y = data[\"y\"][data['check'] == False]\n",
    "\n",
    "X_test = np.stack((x.values, y.values), axis=1)\n",
    "X_test = torch.from_numpy(X_test).float()\n",
    "\n",
    "y_test = data[\"e\"][data['check'] == False]\n",
    "y_test = torch.squeeze(torch.from_numpy(y_test.to_numpy()).float())\n",
    "\n",
    "print(X_train.shape, y_train.shape)\n",
    "print(X_test.shape, y_test.shape)"
   ]
  },
  {
   "cell_type": "markdown",
   "metadata": {},
   "source": [
    "### Set Parameters"
   ]
  },
  {
   "cell_type": "code",
   "execution_count": 5,
   "metadata": {},
   "outputs": [],
   "source": [
    "input_size = 2\n",
    "hidden_size = 5\n",
    "activation_fun = nn.ReLU()\n",
    "learning_rate = 0.001\n",
    "epochs = 500\n",
    "loss_fun = nn.MSELoss()"
   ]
  },
  {
   "cell_type": "code",
   "execution_count": 6,
   "metadata": {},
   "outputs": [],
   "source": [
    "class Net(nn.Module):\n",
    "    def __init__(self):\n",
    "        super(Net, self).__init__()\n",
    "        \n",
    "        self.hidden = nn.Linear(input_size, hidden_size)\n",
    "        self.activation = activation_fun\n",
    "        self.output = nn.Linear(hidden_size, 1)\n",
    "        \n",
    "    def forward(self, input):\n",
    "        hidden = self.hidden(input)\n",
    "        activated = self.activation(hidden)\n",
    "        output = self.output(activated)\n",
    "        \n",
    "        return output"
   ]
  },
  {
   "cell_type": "code",
   "execution_count": 7,
   "metadata": {},
   "outputs": [],
   "source": [
    "net = Net()\n",
    "opt = optim.Adam(net.parameters(), lr=learning_rate) #che valore di lr usare??"
   ]
  },
  {
   "cell_type": "code",
   "execution_count": 8,
   "metadata": {},
   "outputs": [
    {
     "name": "stdout",
     "output_type": "stream",
     "text": [
      "Test loss before Training 0.37433019280433655\n"
     ]
    }
   ],
   "source": [
    "net.eval()\n",
    "\n",
    "y_pred = net(X_test)\n",
    "y_pred = torch.squeeze(y_pred)\n",
    "before_train = loss_fun(y_pred, y_test)\n",
    "print('Test loss before Training' , before_train.item())"
   ]
  },
  {
   "cell_type": "code",
   "execution_count": 9,
   "metadata": {},
   "outputs": [
    {
     "name": "stderr",
     "output_type": "stream",
     "text": [
      "100%|██████████| 500/500 [00:00<00:00, 707.52it/s]\n"
     ]
    }
   ],
   "source": [
    "net.train()\n",
    "\n",
    "training = []\n",
    "validation = []\n",
    "\n",
    "for epoch in tqdm(range(epochs)):\n",
    "    opt.zero_grad()\n",
    "    y_pred = net(X_train)\n",
    "    y_pred = torch.squeeze(y_pred)\n",
    "    train_loss = loss_fun(y_train, y_pred)\n",
    "    training.append(train_loss)\n",
    "    \n",
    "    \n",
    "    with torch.no_grad():\n",
    "        y_val = net(X_test)\n",
    "        y_val = torch.squeeze(y_val)\n",
    "        val_loss = loss_fun(y_val, y_test)\n",
    "        assert val_loss.requires_grad == False\n",
    "        validation.append(val_loss)\n",
    "    \n",
    "    \n",
    "    #print('Epoch {}: train loss: {}'.format(epoch, train_loss.item()))\n",
    "    train_loss.backward()\n",
    "    opt.step()"
   ]
  },
  {
   "cell_type": "code",
   "execution_count": 10,
   "metadata": {},
   "outputs": [
    {
     "name": "stdout",
     "output_type": "stream",
     "text": [
      "Test loss after Training 0.007452478166669607\n"
     ]
    }
   ],
   "source": [
    "net.eval()\n",
    "\n",
    "y_pred = net(X_test)\n",
    "y_pred = torch.squeeze(y_pred)\n",
    "after_train = loss_fun(y_pred, y_test)\n",
    "print('Test loss after Training' , after_train.item())"
   ]
  },
  {
   "cell_type": "code",
   "execution_count": 11,
   "metadata": {},
   "outputs": [
    {
     "data": {
      "text/plain": [
       "<matplotlib.legend.Legend at 0x132ac79d90>"
      ]
     },
     "execution_count": 11,
     "metadata": {},
     "output_type": "execute_result"
    },
    {
     "data": {
      "image/png": "[encoded data removed]",
      "text/plain": [
       "<Figure size 432x288 with 1 Axes>"
      ]
     },
     "metadata": {
      "needs_background": "light"
     },
     "output_type": "display_data"
    }
   ],
   "source": [
    "plt.plot(validation, marker='o', linestyle='-', color='green', label='validation')\n",
    "plt.plot(training, marker='o', linestyle='-', color='blue', label='training')\n",
    "plt.legend()"
   ]
  },
  {
   "cell_type": "code",
   "execution_count": 13,
   "metadata": {},
   "outputs": [
    {
     "data": {
      "text/plain": [
       "Text(0.5, 1.0, 'Error')"
      ]
     },
     "execution_count": 13,
     "metadata": {},
     "output_type": "execute_result"
    },
    {
     "data": {
      "image/png": "[encoded data removed]",
      "text/plain": [
       "<Figure size 432x288 with 1 Axes>"
      ]
     },
     "metadata": {
      "needs_background": "light"
     },
     "output_type": "display_data"
    }
   ],
   "source": [
    "plt.plot(abs(net(X_test).view(-1) - y_test).detach().numpy())\n",
    "plt.title('Error')"
   ]
  },
  {
   "cell_type": "code",
   "execution_count": null,
   "metadata": {},
   "outputs": [],
   "source": []
  }
 ],
 "metadata": {
  "kernelspec": {
   "display_name": "Python 3",
   "language": "python",
   "name": "python3"
  },
  "language_info": {
   "codemirror_mode": {
    "name": "ipython",
    "version": 3
   },
   "file_extension": ".py",
   "mimetype": "text/x-python",
   "name": "python",
   "nbconvert_exporter": "python",
   "pygments_lexer": "ipython3",
   "version": "3.7.4"
  }
 },
 "nbformat": 4,
 "nbformat_minor": 4
}
